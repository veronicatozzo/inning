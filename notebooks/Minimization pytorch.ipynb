{
 "cells": [
  {
   "cell_type": "code",
   "execution_count": 157,
   "metadata": {},
   "outputs": [],
   "source": [
    "import torch as tr \n",
    "import numpy as np\n",
    "from torch.autograd import Variable\n",
    "from torch import optim\n",
    "from sklearn.utils.extmath import fast_logdet\n",
    "from sklearn.datasets import make_sparse_spd_matrix"
   ]
  },
  {
   "cell_type": "code",
   "execution_count": 2,
   "metadata": {},
   "outputs": [],
   "source": [
    "random_state=0"
   ]
  },
  {
   "cell_type": "code",
   "execution_count": 49,
   "metadata": {},
   "outputs": [],
   "source": [
    "A = make_sparse_spd_matrix(dim=15, alpha=0.7, random_state=random_state)"
   ]
  },
  {
   "cell_type": "code",
   "execution_count": null,
   "metadata": {},
   "outputs": [],
   "source": []
  },
  {
   "cell_type": "code",
   "execution_count": 65,
   "metadata": {},
   "outputs": [
    {
     "data": {
      "text/plain": [
       "((10, 10), (5, 10), (5, 5))"
      ]
     },
     "execution_count": 65,
     "metadata": {},
     "output_type": "execute_result"
    }
   ],
   "source": [
    "T_true = A[5:,5:]\n",
    "K_true = A[10:,5:,]\n",
    "H_true = A[0:5,0:5]\n",
    "T_true.shape, K_true.shape, H_true.shape"
   ]
  },
  {
   "cell_type": "code",
   "execution_count": 66,
   "metadata": {},
   "outputs": [],
   "source": [
    "per_cov = K_true*0.05\n",
    "T_obs = T_true - per_cov.T.dot(H_true).dot(per_cov)"
   ]
  },
  {
   "cell_type": "code",
   "execution_count": 67,
   "metadata": {},
   "outputs": [],
   "source": [
    "samples = np.random.multivariate_normal(np.zeros(10), np.linalg.inv(T_obs), 50)"
   ]
  },
  {
   "cell_type": "code",
   "execution_count": 68,
   "metadata": {},
   "outputs": [],
   "source": [
    "S = Variable(tr.from_numpy(samples.T.dot(samples)/50))\n"
   ]
  },
  {
   "cell_type": "code",
   "execution_count": 88,
   "metadata": {},
   "outputs": [],
   "source": [
    "_lambda=100\n",
    "_mu=10"
   ]
  },
  {
   "cell_type": "code",
   "execution_count": 133,
   "metadata": {},
   "outputs": [],
   "source": [
    "# def loss_func(S, T, K, H, _lambda, _mu):\n",
    "#     loss = 0\n",
    "#     Hinv = H.inverse().double()\n",
    "#     Hinv.type(tr.DoubleTensor)\n",
    "#     T = T.double()\n",
    "#     H = H.double()\n",
    "#     R = T - tr.matmul(tr.matmul(tr.t(K).double(), Hinv),K.double())\n",
    "#     loss += - R.logdet() + tr.trace(tr.matmul(S,R))\n",
    "#     loss += _lambda*tr.norm(T, 1)\n",
    "#     loss += _mu*tr.norm(H, 1)\n",
    "#     return loss\n",
    "\n",
    "def nuclear_norm(A):\n",
    "    _, S_, V = tr.svd(A)\n",
    "    return tr.sum(S)\n",
    "\n",
    "def loss_func(S, T, L, _lambda, _mu):\n",
    "    loss = 0\n",
    "    T = T.double()\n",
    "    L = L.double()\n",
    "    LLT = tr.matmul(L, tr.t(L))\n",
    "    R = T - LLT\n",
    "    loss += - R.logdet() + tr.trace(tr.matmul(S,R))\n",
    "    loss += _lambda*tr.norm(T, 1)\n",
    "    loss += _mu*nuclear_norm(LLT)\n",
    "    return loss"
   ]
  },
  {
   "cell_type": "code",
   "execution_count": 130,
   "metadata": {},
   "outputs": [],
   "source": [
    "tr.distributions.constraints.positive_definite??"
   ]
  },
  {
   "cell_type": "code",
   "execution_count": 169,
   "metadata": {},
   "outputs": [],
   "source": [
    "K = Variable(tr.from_numpy(per_cov), )\n",
    "H = Variable(tr.randn(5,5), requires_grad=True)\n",
    "T = Variable(tr.randn(10,10), requires_grad=True)\n",
    "# for epoch in range(5000):\n",
    "\n",
    "#     # Calcola funzione costo\n",
    "#     loss = loss_func(S, T, K, H, _lambda, _mu)\n",
    "\n",
    "#     # Esegui back-propagation\n",
    "#     loss.backward()\n",
    "\n",
    "#     # Aggiorna le variabili\n",
    "#     H.data = H.data - 0.0005*H.grad.data\n",
    "#     T.data = T.data - 0.0005*T.grad.data\n",
    "#     # Resetta il gradiente\n",
    "#     H.grad.data.zero_()\n",
    "#     T.grad.data.zero_()\n",
    "\n",
    "\n",
    "L = Variable(tr.from_numpy(make_sparse_spd_matrix(dim=10, alpha=0.5)))\n",
    "L = Variable(tr.potrf(L, upper=False), requires_grad=True)\n",
    "optimizer = optim.SGD([K, L], lr = 0.01, momentum=0.9)\n",
    "\n",
    "for epoch in range(1000):\n",
    "    optimizer.zero_grad()\n",
    "    #output = model(input)\n",
    "    loss = loss_func(S, T, L, _lambda, _mu)\n",
    "    loss.backward()\n",
    "    optimizer.step()\n"
   ]
  },
  {
   "cell_type": "code",
   "execution_count": 170,
   "metadata": {},
   "outputs": [
    {
     "data": {
      "text/plain": [
       "array([[-0.11823748,  0.45512185,  1.122299  ,  0.1223267 , -0.33746904],\n",
       "       [ 1.1438526 ,  1.9129025 , -0.14669214,  1.2399874 ,  0.7413741 ],\n",
       "       [ 1.2472075 , -0.94150907, -0.31507027,  0.1168386 , -0.799896  ],\n",
       "       [-0.8766765 , -0.7142173 , -1.1763316 , -0.86082906, -0.24611288],\n",
       "       [-0.793239  ,  0.        , -0.89728177, -0.53665185, -0.2519287 ]],\n",
       "      dtype=float32)"
      ]
     },
     "execution_count": 170,
     "metadata": {},
     "output_type": "execute_result"
    }
   ],
   "source": [
    "Hn = H.detach().numpy()\n",
    "Hn[np.where(np.abs(Hn)<1e-1)] =0\n",
    "Hn"
   ]
  },
  {
   "cell_type": "code",
   "execution_count": 171,
   "metadata": {},
   "outputs": [
    {
     "data": {
      "text/plain": [
       "array([[ 1.22170946,  0.        ,  0.        ,  0.        ,  0.        ],\n",
       "       [ 0.        ,  2.07826367,  0.        , -0.15206798,  0.74181422],\n",
       "       [ 0.        ,  0.        ,  1.        ,  0.        , -0.85945506],\n",
       "       [ 0.        , -0.15206798,  0.        ,  2.22706349,  0.        ],\n",
       "       [ 0.        ,  0.74181422, -0.85945506,  0.        ,  2.4664463 ]])"
      ]
     },
     "execution_count": 171,
     "metadata": {},
     "output_type": "execute_result"
    }
   ],
   "source": [
    "H_true"
   ]
  },
  {
   "cell_type": "code",
   "execution_count": 172,
   "metadata": {},
   "outputs": [
    {
     "data": {
      "text/plain": [
       "tensor([[ 0.0542,  1.2193, -0.2151,  0.2167,  0.1701, -1.5728,  0.8041, -0.0143,\n",
       "         -1.0392, -0.4758],\n",
       "        [ 0.0041,  0.5052,  1.1083, -0.3272,  1.1302,  0.0276, -1.1795,  0.5830,\n",
       "          0.7042, -2.7583],\n",
       "        [-0.7300,  0.7370, -0.1884, -2.9756,  1.1464,  0.0525,  0.5401, -0.4302,\n",
       "         -0.0799, -0.5069],\n",
       "        [-0.2369, -2.3961,  0.3244, -0.7965, -1.1581,  0.6168,  0.4607, -1.9948,\n",
       "          0.7394,  0.7073],\n",
       "        [ 0.9093, -0.0165, -0.0173, -1.2472,  1.1439, -0.6034, -0.8090,  1.1235,\n",
       "          0.4526,  0.3039],\n",
       "        [-0.4709, -2.2538,  1.4028,  0.5417, -1.0275, -0.4153,  0.0823, -1.2659,\n",
       "          0.5269, -0.5990],\n",
       "        [-0.6747,  1.3681, -0.1050,  0.6798, -1.6466, -0.3074, -3.0788,  0.1187,\n",
       "          1.3657, -1.9998],\n",
       "        [-0.7302, -0.9029,  0.5320,  1.1489,  1.0888, -1.7966, -2.8343, -1.5284,\n",
       "          0.8091, -0.5398],\n",
       "        [ 0.9578, -1.2211, -0.1113,  0.4318, -0.4024, -1.0155,  1.0897, -1.8786,\n",
       "          0.1775,  1.0765],\n",
       "        [ 0.4343,  0.7970, -0.8995,  0.1219,  0.3393, -1.5088,  2.4770, -0.1682,\n",
       "         -0.7468,  0.9034]], requires_grad=True)"
      ]
     },
     "execution_count": 172,
     "metadata": {},
     "output_type": "execute_result"
    }
   ],
   "source": [
    "T"
   ]
  },
  {
   "cell_type": "code",
   "execution_count": 173,
   "metadata": {},
   "outputs": [
    {
     "data": {
      "text/plain": [
       "array([[ 1.        ,  0.        , -0.16673795,  0.        ,  0.        ,\n",
       "        -0.88199611,  0.        ,  0.        ,  0.        ,  0.        ],\n",
       "       [ 0.        ,  2.04044801,  0.        , -0.63593324,  0.        ,\n",
       "         0.        , -0.32538408,  0.        ,  0.27733968, -0.72812233],\n",
       "       [-0.16673795,  0.        ,  1.32129891,  0.        ,  0.        ,\n",
       "         0.14706222,  0.        ,  0.        ,  0.        ,  0.        ],\n",
       "       [ 0.        , -0.63593324,  0.        ,  1.        ,  0.        ,\n",
       "         0.        ,  0.        ,  0.        ,  0.        ,  0.        ],\n",
       "       [ 0.        ,  0.        ,  0.        ,  0.        ,  1.        ,\n",
       "         0.        ,  0.        ,  0.        ,  0.        ,  0.        ],\n",
       "       [-0.88199611,  0.        ,  0.14706222,  0.        ,  0.        ,\n",
       "         2.55713568,  0.44253476, -0.8012042 ,  0.        ,  0.        ],\n",
       "       [ 0.        , -0.32538408,  0.        ,  0.        ,  0.        ,\n",
       "         0.44253476,  1.30507622, -0.55233705, -0.85234556,  0.        ],\n",
       "       [ 0.        ,  0.        ,  0.        ,  0.        ,  0.        ,\n",
       "        -0.8012042 , -0.55233705,  1.        ,  0.        ,  0.        ],\n",
       "       [ 0.        ,  0.27733968,  0.        ,  0.        ,  0.        ,\n",
       "         0.        , -0.85234556,  0.        ,  1.87432565,  0.        ],\n",
       "       [ 0.        , -0.72812233,  0.        ,  0.        ,  0.        ,\n",
       "         0.        ,  0.        ,  0.        ,  0.        ,  1.        ]])"
      ]
     },
     "execution_count": 173,
     "metadata": {},
     "output_type": "execute_result"
    }
   ],
   "source": [
    "T_true"
   ]
  },
  {
   "cell_type": "code",
   "execution_count": 174,
   "metadata": {},
   "outputs": [
    {
     "data": {
      "text/plain": [
       "array([[ 2.37597182e-03,  0.00000000e+00, -3.96164667e-04,\n",
       "         0.00000000e+00,  0.00000000e+00, -6.88855909e-03,\n",
       "        -1.19212558e-03,  2.15832992e-03,  0.00000000e+00,\n",
       "         0.00000000e+00],\n",
       "       [ 0.00000000e+00,  5.19474519e-03,  0.00000000e+00,\n",
       "         0.00000000e+00,  0.00000000e+00, -2.64582991e-03,\n",
       "        -6.39191241e-03,  3.30231659e-03,  5.80784117e-03,\n",
       "        -5.09312291e-03],\n",
       "       [-3.96164667e-04,  0.00000000e+00,  6.60556839e-05,\n",
       "         0.00000000e+00,  0.00000000e+00,  1.14858421e-03,\n",
       "         1.98772573e-04, -3.59875503e-04,  0.00000000e+00,\n",
       "         0.00000000e+00],\n",
       "       [ 0.00000000e+00,  0.00000000e+00,  0.00000000e+00,\n",
       "         0.00000000e+00,  0.00000000e+00,  0.00000000e+00,\n",
       "         0.00000000e+00,  0.00000000e+00,  0.00000000e+00,\n",
       "         0.00000000e+00],\n",
       "       [ 0.00000000e+00,  0.00000000e+00,  0.00000000e+00,\n",
       "         0.00000000e+00,  0.00000000e+00,  0.00000000e+00,\n",
       "         0.00000000e+00,  0.00000000e+00,  0.00000000e+00,\n",
       "         0.00000000e+00],\n",
       "       [-6.88855909e-03, -2.64582991e-03,  1.14858421e-03,\n",
       "         0.00000000e+00,  0.00000000e+00,  2.25940438e-02,\n",
       "         7.70672496e-03, -9.53053557e-03, -2.27509745e-03,\n",
       "         2.54219395e-03],\n",
       "       [-1.19212558e-03, -6.39191241e-03,  1.98772573e-04,\n",
       "         0.00000000e+00,  0.00000000e+00,  7.70672496e-03,\n",
       "         1.51008500e-02, -6.38799431e-03, -1.58804071e-02,\n",
       "         3.60708242e-03],\n",
       "       [ 2.15832992e-03,  3.30231659e-03, -3.59875503e-04,\n",
       "         0.00000000e+00,  0.00000000e+00, -9.53053557e-03,\n",
       "        -6.38799431e-03,  6.04569632e-03,  2.83959753e-03,\n",
       "        -3.17296634e-03],\n",
       "       [ 0.00000000e+00,  5.80784117e-03,  0.00000000e+00,\n",
       "         0.00000000e+00,  0.00000000e+00, -2.27509745e-03,\n",
       "        -1.58804071e-02,  2.83959753e-03,  2.45490316e-02,\n",
       "        -1.58070514e-03],\n",
       "       [ 0.00000000e+00, -5.09312291e-03,  0.00000000e+00,\n",
       "         0.00000000e+00,  0.00000000e+00,  2.54219395e-03,\n",
       "         3.60708242e-03, -3.17296634e-03, -1.58070514e-03,\n",
       "         6.16611575e-03]])"
      ]
     },
     "execution_count": 174,
     "metadata": {},
     "output_type": "execute_result"
    }
   ],
   "source": [
    "Ltrue"
   ]
  },
  {
   "cell_type": "code",
   "execution_count": 175,
   "metadata": {},
   "outputs": [
    {
     "data": {
      "text/plain": [
       "array([[-2.18986124e+240,  6.30193522e+241,  1.24654316e+240,\n",
       "         6.06528165e+241, -2.20068123e+241, -7.35571211e+239,\n",
       "         7.93862973e+241,  6.21422438e+241,  2.50720354e+241,\n",
       "         5.06630061e+241],\n",
       "       [ 6.30193522e+241, -1.81355726e+243, -3.58727489e+241,\n",
       "        -1.74545361e+243,  6.33307276e+242,  2.11681089e+241,\n",
       "        -2.28456166e+243, -1.78831603e+243, -7.21517603e+242,\n",
       "        -1.45796901e+243],\n",
       "       [ 1.24654316e+240, -3.58727489e+241, -7.09574568e+239,\n",
       "        -3.45256366e+241,  1.25270226e+241,  4.18712037e+239,\n",
       "        -4.51893681e+241, -3.53734691e+241, -1.42718514e+241,\n",
       "        -2.88390983e+241],\n",
       "       [ 6.06528165e+241, -1.74545361e+243, -3.45256366e+241,\n",
       "        -1.67990742e+243,  6.09524990e+242,  2.03731930e+241,\n",
       "        -2.19877061e+243, -1.72116025e+243, -6.94422796e+242,\n",
       "        -1.40321860e+243],\n",
       "       [-2.20068123e+241,  6.33307276e+242,  1.25270226e+241,\n",
       "         6.09524990e+242, -2.21155469e+242, -7.39205631e+240,\n",
       "         7.97785410e+242,  6.24492855e+242,  2.51959151e+242,\n",
       "         5.09133294e+242],\n",
       "       [-7.35571211e+239,  2.11681089e+241,  4.18712037e+239,\n",
       "         2.03731930e+241, -7.39205631e+240, -2.47077302e+239,\n",
       "         2.66657420e+241,  2.08734895e+241,  8.42166030e+240,\n",
       "         1.70176302e+241],\n",
       "       [ 7.93862973e+241, -2.28456166e+243, -4.51893681e+241,\n",
       "        -2.19877061e+243,  7.97785410e+242,  2.66657420e+241,\n",
       "        -2.87789202e+243, -2.25276495e+243, -9.08905104e+242,\n",
       "        -1.83662252e+243],\n",
       "       [ 6.21422438e+241, -1.78831603e+243, -3.53734691e+241,\n",
       "        -1.72116025e+243,  6.24492855e+242,  2.08734895e+241,\n",
       "        -2.25276495e+243, -1.76342610e+243, -7.11475463e+242,\n",
       "        -1.43767688e+243],\n",
       "       [ 2.50720354e+241, -7.21517603e+242, -1.42718514e+241,\n",
       "        -6.94422796e+242,  2.51959151e+242,  8.42166030e+240,\n",
       "        -9.08905104e+242, -7.11475463e+242, -2.87053330e+242,\n",
       "        -5.80048023e+242],\n",
       "       [ 5.06630061e+241, -1.45796901e+243, -2.88390983e+241,\n",
       "        -1.40321860e+243,  5.09133294e+242,  1.70176302e+241,\n",
       "        -1.83662252e+243, -1.43767688e+243, -5.80048023e+242,\n",
       "        -1.17210175e+243]])"
      ]
     },
     "execution_count": 175,
     "metadata": {},
     "output_type": "execute_result"
    }
   ],
   "source": [
    "Ltrue - tr.matmul(L, tr.t(L)).detach().numpy()"
   ]
  },
  {
   "cell_type": "code",
   "execution_count": null,
   "metadata": {},
   "outputs": [],
   "source": [
    "from itertools import product\n",
    "summ = np.zeros((3,3))\n",
    "\n",
    "for i,j in product(range(3), range(3)):\n",
    "    I = np.zeros((3,3))\n",
    "    I[i,j] = 1\n",
    "    summ[i,j] = Kn.dot(Rn - Tn + Kn.T.dot(Hninv).dot(Kn)).dot(Kn.T).dot((-Hninv).dot(I).dot(Hninv))"
   ]
  },
  {
   "cell_type": "code",
   "execution_count": null,
   "metadata": {},
   "outputs": [],
   "source": [
    "summ"
   ]
  },
  {
   "cell_type": "code",
   "execution_count": null,
   "metadata": {},
   "outputs": [],
   "source": [
    "Kn = K.numpy()\n",
    "Hn = H.detach().numpy()\n",
    "Rn = R.numpy()\n",
    "Tn = T.numpy()"
   ]
  },
  {
   "cell_type": "code",
   "execution_count": null,
   "metadata": {},
   "outputs": [],
   "source": [
    "np.linalg.norm(Rn - Tn + Kn.T.dot(np.linalg.inv(Hn)).dot(Kn))**2"
   ]
  },
  {
   "cell_type": "code",
   "execution_count": null,
   "metadata": {},
   "outputs": [],
   "source": [
    "Hninv = np.linalg.inv(Hn)\n",
    "I = np.zeros((3,3))\n",
    "I[1,1] = 1\n",
    "Kn.dot(Rn - Tn + Kn.T.dot(Hninv).dot(Kn)).dot(Kn.T).dot((-Hninv.T).dot(I).dot(Hninv))"
   ]
  },
  {
   "cell_type": "code",
   "execution_count": null,
   "metadata": {},
   "outputs": [],
   "source": [
    "Hninv = np.linalg.inv(Hn)\n",
    "(-Hninv).dot(np.ones((3,3))).dot(Hninv).dot(Kn.dot(Rn - Tn + Kn.T.dot(Hninv).dot(Kn)).dot(Kn.T))"
   ]
  },
  {
   "cell_type": "code",
   "execution_count": null,
   "metadata": {},
   "outputs": [],
   "source": [
    "Hninv"
   ]
  },
  {
   "cell_type": "code",
   "execution_count": null,
   "metadata": {},
   "outputs": [],
   "source": []
  }
 ],
 "metadata": {
  "kernelspec": {
   "display_name": "Python 3",
   "language": "python",
   "name": "python3"
  },
  "language_info": {
   "codemirror_mode": {
    "name": "ipython",
    "version": 3
   },
   "file_extension": ".py",
   "mimetype": "text/x-python",
   "name": "python",
   "nbconvert_exporter": "python",
   "pygments_lexer": "ipython3",
   "version": "3.6.5"
  }
 },
 "nbformat": 4,
 "nbformat_minor": 2
}
