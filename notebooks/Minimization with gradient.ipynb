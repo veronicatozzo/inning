{
 "cells": [
  {
   "cell_type": "code",
   "execution_count": 279,
   "metadata": {},
   "outputs": [],
   "source": [
    "import numpy as np\n",
    "from sklearn.utils.extmath import fast_logdet\n",
    "from sklearn.utils import check_random_state\n",
    "from sklearn.datasets import make_sparse_spd_matrix\n",
    "from sklearn.covariance import empirical_covariance\n",
    "from functools import partial\n",
    "\n",
    "from network_inference.prox import prox_logdet, soft_thresholding_sign\n",
    "from network_inference.datasets import is_pos_def\n",
    "from network_inference.utils import _scalar_product, update_rho, convergence"
   ]
  },
  {
   "cell_type": "code",
   "execution_count": 246,
   "metadata": {},
   "outputs": [],
   "source": [
    "def objective_H(H, R=None, T=None, K=None, U= None,_rho=1, _mu=1):\n",
    "    return _rho* np.linalg.norm(R - T + U+ K.T.dot(np.linalg.inv(H).dot(K)))**2 + _mu*np.linalg.norm(H, 1)\n",
    "\n",
    "\n",
    "\n",
    "    # return x.ravel().dot(y.ravel())"
   ]
  },
  {
   "cell_type": "code",
   "execution_count": 247,
   "metadata": {},
   "outputs": [],
   "source": [
    "def _choose_lambda(lamda, R, T, K, H, U, _rho, _mu, prox, grad, gamma, delta=1e-4, eps=0.5, max_iter=1000):\n",
    "    \"\"\"Choose lambda for backtracking.\n",
    "\n",
    "    References\n",
    "    ----------\n",
    "    Salzo S. (2017). https://doi.org/10.1137/16M1073741\n",
    "\n",
    "    \"\"\"\n",
    "    partial_f = partial(objective_H, R=R, T=T, K=K, U=U,_rho=_rho, _mu=_mu)\n",
    "    fx = partial_f(H)\n",
    "\n",
    "    y_minus_x = prox - H\n",
    "    tolerance = _scalar_product(y_minus_x, grad)\n",
    "    tolerance += delta / gamma * _scalar_product(y_minus_x, y_minus_x)\n",
    "#     print(\"Tolerance:\", tolerance)\n",
    "    for i in range(max_iter):\n",
    "        # line-search\n",
    "        x1 = H + lamda * y_minus_x\n",
    "\n",
    "        loss_diff = partial_f(x1) - fx\n",
    "        #print(\"Loss diff:\", loss_diff)\n",
    "        if loss_diff <= lamda * tolerance and is_pos_def(x1):\n",
    "              break\n",
    "        lamda *= eps\n",
    "    else:\n",
    "        print(\"did not find lambda\")\n",
    "    return lamda, i + 1"
   ]
  },
  {
   "cell_type": "code",
   "execution_count": 266,
   "metadata": {},
   "outputs": [],
   "source": [
    "def _choose_gamma(gamma, H, R, T, K, U, _rho, _mu, _lambda, grad,\n",
    "                 eps=0.5, max_iter=1000):\n",
    "    \"\"\"Choose gamma for backtracking.\n",
    "\n",
    "    References\n",
    "    ----------\n",
    "    Salzo S. (2017). https://doi.org/10.1137/16M1073741\n",
    "\n",
    "    \"\"\"\n",
    "    partial_f = partial(objective_H, R=R, T=T, K=K, U=U, _rho=_rho, _mu=_mu)\n",
    "    fx = partial_f(H)\n",
    "    for i in range(max_iter):\n",
    "        prox = soft_thresholding_sign(H - gamma * grad, _mu * gamma)\n",
    "        if positive_definite(prox):\n",
    "            break\n",
    "        gamma *= eps\n",
    "\n",
    "    return gamma, prox"
   ]
  },
  {
   "cell_type": "code",
   "execution_count": 267,
   "metadata": {},
   "outputs": [],
   "source": [
    "def _upgrade_H(R, T, K, U, _rho, _mu, verbose=0):\n",
    "    H = np.random.rand(K.shape[0], K.shape[0])\n",
    "    H = H.T.dot(H)\n",
    "    _lambda = 1\n",
    "    gamma = 1\n",
    "    for iter_ in range(1000):\n",
    "        H_old = H\n",
    "        Hinv = np.linalg.inv(H)\n",
    "        gradient = -_rho* K.dot(R - T + U + np.linalg.multi_dot((K.T, Hinv, K))).dot(K.T).dot(Hinv).dot(Hinv)\n",
    "        gamma, _ = _choose_gamma(gamma, H, R, T, K, U, _rho,_mu, _lambda, gradient)\n",
    "        Y = soft_thresholding_sign(H - gamma*gradient, _mu)\n",
    "        _lambda,_ = _choose_lambda(_lambda, R, T, K, H, U,_rho, _mu, Y, gradient, 1, max_iter=1000, delta=1e-2)\n",
    "      \n",
    "        H = H + _lambda*(Y - H)\n",
    "        obj = objective_H(H, R, T, K, U,_rho=_rho, _mu=_mu)\n",
    "        iter_diff =np.linalg.norm(H - H_old) \n",
    "        if verbose:\n",
    "            print(\"Iter: %d, obj: %.5f, iter_diff: %.5f\"%(iter_, obj, iter_diff))\n",
    "        if(iter_diff<1e-5):\n",
    "            \n",
    "            break\n",
    "    else:\n",
    "        print(\"Did not converge\")\n",
    "    return H"
   ]
  },
  {
   "cell_type": "code",
   "execution_count": 268,
   "metadata": {},
   "outputs": [],
   "source": [
    "# R = np.random.rand(10,10)\n",
    "# T = np.random.rand(10,10)\n",
    "# U = np.random.rand(10,10)\n",
    "# K = per_cov\n",
    "# print(R.shape, T.shape, K.shape)\n",
    "# _upgrade_H(R,T,K,1,0.02)"
   ]
  },
  {
   "cell_type": "code",
   "execution_count": 269,
   "metadata": {},
   "outputs": [],
   "source": [
    "def objective(emp_cov, K, R, T, H, mu, eta, rho):\n",
    "    res = fast_logdet(R)\n",
    "    res += np.sum(R*emp_cov)\n",
    "    res += rho/2 * np.linalg.norm(R - T + U + K.T.dot(np.linalg.inv(H)).dot(K))**2 \n",
    "    res += mu*np.linalg.norm(H,1)\n",
    "    res += eta*np.linalg.norm(T,1)\n",
    "    return res"
   ]
  },
  {
   "cell_type": "code",
   "execution_count": 308,
   "metadata": {},
   "outputs": [],
   "source": [
    "def fixed_interlinks_graphical_lasso(X, K, mu=0.01, eta=0.01, rho=1., \n",
    "        tol=1e-3, rtol=1e-5, max_iter=100, verbose=False, return_n_iter=True,\n",
    "        return_history=False, compute_objective=False, compute_emp_cov=False,\n",
    "        random_state=None):\n",
    "    \n",
    "    random_state = check_random_state(random_state)\n",
    "    if compute_emp_cov:\n",
    "        n = X.shape[0] \n",
    "        emp_cov = empirical_covariance(X, assume_centered=False)\n",
    "    else:\n",
    "        emp_cov = X\n",
    "\n",
    "    R = emp_cov.copy()\n",
    "    H = np.random.rand(K.shape[0], K.shape[0])\n",
    "    H = H.T.dot(H)\n",
    "    T = emp_cov.copy()\n",
    "    U = np.zeros((K.shape[1], K.shape[1]))\n",
    "    \n",
    "    checks = []\n",
    "    for iteration_ in range(max_iter):\n",
    "        R_old = R.copy()\n",
    "        \n",
    "        # R update\n",
    "        M = T - U - K.T.dot(np.linalg.inv(H)).dot(K)\n",
    "        M = M.T.dot(M)/2\n",
    "        R = prox_logdet(emp_cov - rho*M, 1/rho)\n",
    "       # print(\"----------------------R---------------------\\n\", R)\n",
    "        # T update\n",
    "        M = - R - U - K.T.dot(np.linalg.inv(H)).dot(K)\n",
    "        \n",
    "        T = soft_thresholding_sign(M, eta/rho)\n",
    "        #print(\"----------------------T---------------------\\n\",T)\n",
    "        # H update\n",
    "        H = _upgrade_H(R, T, K, U, rho, mu)\n",
    "        #print(\"----------------------H---------------------\\n\",H)\n",
    "        # U update\n",
    "        KHK = np.linalg.multi_dot((K.T, np.linalg.inv(H), K))\n",
    "        U += R - T + KHK\n",
    "\n",
    "        # diagnostics, reporting, termination checks\n",
    "        \n",
    "        obj = objective(emp_cov, K, R, T, H, mu, eta, rho) \\\n",
    "            if compute_objective else np.nan\n",
    "        rnorm = np.linalg.norm(R - T+ KHK)\n",
    "        snorm = rho *np.linalg.norm(R - R_old)\n",
    "        check = convergence(\n",
    "            obj=obj, rnorm=rnorm, snorm=snorm,\n",
    "            e_pri=(np.sqrt(R.size) * tol + rtol *\n",
    "                   max(np.sqrt(np.linalg.norm(R)**2 + np.linalg.norm(U)**2),\n",
    "                       np.linalg.norm(T - KHK))),\n",
    "            e_dual=(np.sqrt(R.size) * tol + rtol * rho *\n",
    "                    np.linalg.norm(U))\n",
    "        )\n",
    "\n",
    "        if verbose:\n",
    "            print(\"obj: %.4f, rnorm: %.4f, snorm: %.4f,\"\n",
    "                  \"eps_pri: %.4f, eps_dual: %.4f\" % check)\n",
    "\n",
    "        checks.append(check)\n",
    "        if check.rnorm <= check.e_pri and check.snorm <= check.e_dual:\n",
    "            break\n",
    "        rho_new = update_rho(rho, rnorm, snorm, iteration=iteration_)\n",
    "        # scaled dual variables should be also rescaled\n",
    "        U *= rho / rho_new\n",
    "        rho = rho_new\n",
    "    else:\n",
    "        warnings.warn(\"Objective did not converge.\")\n",
    "\n",
    "    return_list = [R, T, H, emp_cov]\n",
    "    if return_n_iter:\n",
    "        return_list.append(iteration_)\n",
    "    if return_history:\n",
    "        return_list.append(checks)\n",
    "    return return_list\n"
   ]
  },
  {
   "cell_type": "code",
   "execution_count": 309,
   "metadata": {},
   "outputs": [],
   "source": [
    "random_state=0\n",
    "\n",
    "A = make_sparse_spd_matrix(dim=15, alpha=0.7, random_state=random_state)\n",
    "\n",
    "T_true = A[5:,5:]\n",
    "K_true = A[10:,5:,]\n",
    "H_true = A[0:5,0:5]\n",
    "T_true.shape, K_true.shape, H_true.shape\n",
    "\n",
    "per_cov = K_true*0.3\n",
    "T_obs = T_true - per_cov.T.dot(H_true).dot(per_cov)\n",
    "\n",
    "samples = np.random.multivariate_normal(np.zeros(10), np.linalg.inv(T_obs), 50)"
   ]
  },
  {
   "cell_type": "code",
   "execution_count": 310,
   "metadata": {},
   "outputs": [
    {
     "name": "stdout",
     "output_type": "stream",
     "text": [
      "obj: 111249.7372, rnorm: 470.5490, snorm: 223.0454,eps_pri: 0.0152, eps_dual: 0.0147\n",
      "obj: 131231559221.1671, rnorm: 512310.6378, snorm: 255507.8219,eps_pri: 5.7401, eps_dual: 5.1378\n",
      "did not find lambda\n",
      "obj: 175167485987206492848128.0000, rnorm: 591891013594.0125, snorm: 295944994494.0961,eps_pri: 6617546.1573, eps_dual: 5918915.2736\n"
     ]
    },
    {
     "ename": "LinAlgError",
     "evalue": "Singular matrix",
     "output_type": "error",
     "traceback": [
      "\u001b[0;31m---------------------------------------------------------------------------\u001b[0m",
      "\u001b[0;31mLinAlgError\u001b[0m                               Traceback (most recent call last)",
      "\u001b[0;32m<ipython-input-310-b175929d4393>\u001b[0m in \u001b[0;36m<module>\u001b[0;34m()\u001b[0m\n\u001b[1;32m      1\u001b[0m fixed_interlinks_graphical_lasso(samples, per_cov, mu=1, eta=1, rho=1., \n\u001b[1;32m      2\u001b[0m         \u001b[0mverbose\u001b[0m\u001b[0;34m=\u001b[0m\u001b[0;36m1\u001b[0m\u001b[0;34m,\u001b[0m \u001b[0mcompute_objective\u001b[0m\u001b[0;34m=\u001b[0m\u001b[0;36m1\u001b[0m\u001b[0;34m,\u001b[0m \u001b[0mcompute_emp_cov\u001b[0m\u001b[0;34m=\u001b[0m\u001b[0;36m1\u001b[0m\u001b[0;34m,\u001b[0m\u001b[0;34m\u001b[0m\u001b[0m\n\u001b[0;32m----> 3\u001b[0;31m         random_state=0)\n\u001b[0m",
      "\u001b[0;32m<ipython-input-308-0e81f64ecd87>\u001b[0m in \u001b[0;36mfixed_interlinks_graphical_lasso\u001b[0;34m(X, K, mu, eta, rho, tol, rtol, max_iter, verbose, return_n_iter, return_history, compute_objective, compute_emp_cov, random_state)\u001b[0m\n\u001b[1;32m     32\u001b[0m         \u001b[0;31m#print(\"----------------------T---------------------\\n\",T)\u001b[0m\u001b[0;34m\u001b[0m\u001b[0;34m\u001b[0m\u001b[0m\n\u001b[1;32m     33\u001b[0m         \u001b[0;31m# H update\u001b[0m\u001b[0;34m\u001b[0m\u001b[0;34m\u001b[0m\u001b[0m\n\u001b[0;32m---> 34\u001b[0;31m         \u001b[0mH\u001b[0m \u001b[0;34m=\u001b[0m \u001b[0m_upgrade_H\u001b[0m\u001b[0;34m(\u001b[0m\u001b[0mR\u001b[0m\u001b[0;34m,\u001b[0m \u001b[0mT\u001b[0m\u001b[0;34m,\u001b[0m \u001b[0mK\u001b[0m\u001b[0;34m,\u001b[0m \u001b[0mU\u001b[0m\u001b[0;34m,\u001b[0m \u001b[0mrho\u001b[0m\u001b[0;34m,\u001b[0m \u001b[0mmu\u001b[0m\u001b[0;34m)\u001b[0m\u001b[0;34m\u001b[0m\u001b[0m\n\u001b[0m\u001b[1;32m     35\u001b[0m         \u001b[0;31m#print(\"----------------------H---------------------\\n\",H)\u001b[0m\u001b[0;34m\u001b[0m\u001b[0;34m\u001b[0m\u001b[0m\n\u001b[1;32m     36\u001b[0m         \u001b[0;31m# U update\u001b[0m\u001b[0;34m\u001b[0m\u001b[0;34m\u001b[0m\u001b[0m\n",
      "\u001b[0;32m<ipython-input-267-61e7ed015798>\u001b[0m in \u001b[0;36m_upgrade_H\u001b[0;34m(R, T, K, U, _rho, _mu, verbose)\u001b[0m\n\u001b[1;32m     10\u001b[0m         \u001b[0mgamma\u001b[0m\u001b[0;34m,\u001b[0m \u001b[0m_\u001b[0m \u001b[0;34m=\u001b[0m \u001b[0m_choose_gamma\u001b[0m\u001b[0;34m(\u001b[0m\u001b[0mgamma\u001b[0m\u001b[0;34m,\u001b[0m \u001b[0mH\u001b[0m\u001b[0;34m,\u001b[0m \u001b[0mR\u001b[0m\u001b[0;34m,\u001b[0m \u001b[0mT\u001b[0m\u001b[0;34m,\u001b[0m \u001b[0mK\u001b[0m\u001b[0;34m,\u001b[0m \u001b[0mU\u001b[0m\u001b[0;34m,\u001b[0m \u001b[0m_rho\u001b[0m\u001b[0;34m,\u001b[0m\u001b[0m_mu\u001b[0m\u001b[0;34m,\u001b[0m \u001b[0m_lambda\u001b[0m\u001b[0;34m,\u001b[0m \u001b[0mgradient\u001b[0m\u001b[0;34m)\u001b[0m\u001b[0;34m\u001b[0m\u001b[0m\n\u001b[1;32m     11\u001b[0m         \u001b[0mY\u001b[0m \u001b[0;34m=\u001b[0m \u001b[0msoft_thresholding_sign\u001b[0m\u001b[0;34m(\u001b[0m\u001b[0mH\u001b[0m \u001b[0;34m-\u001b[0m \u001b[0mgamma\u001b[0m\u001b[0;34m*\u001b[0m\u001b[0mgradient\u001b[0m\u001b[0;34m,\u001b[0m \u001b[0m_mu\u001b[0m\u001b[0;34m)\u001b[0m\u001b[0;34m\u001b[0m\u001b[0m\n\u001b[0;32m---> 12\u001b[0;31m         \u001b[0m_lambda\u001b[0m\u001b[0;34m,\u001b[0m\u001b[0m_\u001b[0m \u001b[0;34m=\u001b[0m \u001b[0m_choose_lambda\u001b[0m\u001b[0;34m(\u001b[0m\u001b[0m_lambda\u001b[0m\u001b[0;34m,\u001b[0m \u001b[0mR\u001b[0m\u001b[0;34m,\u001b[0m \u001b[0mT\u001b[0m\u001b[0;34m,\u001b[0m \u001b[0mK\u001b[0m\u001b[0;34m,\u001b[0m \u001b[0mH\u001b[0m\u001b[0;34m,\u001b[0m \u001b[0mU\u001b[0m\u001b[0;34m,\u001b[0m\u001b[0m_rho\u001b[0m\u001b[0;34m,\u001b[0m \u001b[0m_mu\u001b[0m\u001b[0;34m,\u001b[0m \u001b[0mY\u001b[0m\u001b[0;34m,\u001b[0m \u001b[0mgradient\u001b[0m\u001b[0;34m,\u001b[0m \u001b[0;36m1\u001b[0m\u001b[0;34m,\u001b[0m \u001b[0mmax_iter\u001b[0m\u001b[0;34m=\u001b[0m\u001b[0;36m1000\u001b[0m\u001b[0;34m,\u001b[0m \u001b[0mdelta\u001b[0m\u001b[0;34m=\u001b[0m\u001b[0;36m1e-2\u001b[0m\u001b[0;34m)\u001b[0m\u001b[0;34m\u001b[0m\u001b[0m\n\u001b[0m\u001b[1;32m     13\u001b[0m \u001b[0;34m\u001b[0m\u001b[0m\n\u001b[1;32m     14\u001b[0m         \u001b[0mH\u001b[0m \u001b[0;34m=\u001b[0m \u001b[0mH\u001b[0m \u001b[0;34m+\u001b[0m \u001b[0m_lambda\u001b[0m\u001b[0;34m*\u001b[0m\u001b[0;34m(\u001b[0m\u001b[0mY\u001b[0m \u001b[0;34m-\u001b[0m \u001b[0mH\u001b[0m\u001b[0;34m)\u001b[0m\u001b[0;34m\u001b[0m\u001b[0m\n",
      "\u001b[0;32m<ipython-input-247-d16f11dc4db8>\u001b[0m in \u001b[0;36m_choose_lambda\u001b[0;34m(lamda, R, T, K, H, U, _rho, _mu, prox, grad, gamma, delta, eps, max_iter)\u001b[0m\n\u001b[1;32m     18\u001b[0m         \u001b[0mx1\u001b[0m \u001b[0;34m=\u001b[0m \u001b[0mH\u001b[0m \u001b[0;34m+\u001b[0m \u001b[0mlamda\u001b[0m \u001b[0;34m*\u001b[0m \u001b[0my_minus_x\u001b[0m\u001b[0;34m\u001b[0m\u001b[0m\n\u001b[1;32m     19\u001b[0m \u001b[0;34m\u001b[0m\u001b[0m\n\u001b[0;32m---> 20\u001b[0;31m         \u001b[0mloss_diff\u001b[0m \u001b[0;34m=\u001b[0m \u001b[0mpartial_f\u001b[0m\u001b[0;34m(\u001b[0m\u001b[0mx1\u001b[0m\u001b[0;34m)\u001b[0m \u001b[0;34m-\u001b[0m \u001b[0mfx\u001b[0m\u001b[0;34m\u001b[0m\u001b[0m\n\u001b[0m\u001b[1;32m     21\u001b[0m         \u001b[0;31m#print(\"Loss diff:\", loss_diff)\u001b[0m\u001b[0;34m\u001b[0m\u001b[0;34m\u001b[0m\u001b[0m\n\u001b[1;32m     22\u001b[0m         \u001b[0;32mif\u001b[0m \u001b[0mloss_diff\u001b[0m \u001b[0;34m<=\u001b[0m \u001b[0mlamda\u001b[0m \u001b[0;34m*\u001b[0m \u001b[0mtolerance\u001b[0m \u001b[0;32mand\u001b[0m \u001b[0mis_pos_def\u001b[0m\u001b[0;34m(\u001b[0m\u001b[0mx1\u001b[0m\u001b[0;34m)\u001b[0m\u001b[0;34m:\u001b[0m\u001b[0;34m\u001b[0m\u001b[0m\n",
      "\u001b[0;32m<ipython-input-246-4ce32c67a4ba>\u001b[0m in \u001b[0;36mobjective_H\u001b[0;34m(H, R, T, K, U, _rho, _mu)\u001b[0m\n\u001b[1;32m      1\u001b[0m \u001b[0;32mdef\u001b[0m \u001b[0mobjective_H\u001b[0m\u001b[0;34m(\u001b[0m\u001b[0mH\u001b[0m\u001b[0;34m,\u001b[0m \u001b[0mR\u001b[0m\u001b[0;34m=\u001b[0m\u001b[0;32mNone\u001b[0m\u001b[0;34m,\u001b[0m \u001b[0mT\u001b[0m\u001b[0;34m=\u001b[0m\u001b[0;32mNone\u001b[0m\u001b[0;34m,\u001b[0m \u001b[0mK\u001b[0m\u001b[0;34m=\u001b[0m\u001b[0;32mNone\u001b[0m\u001b[0;34m,\u001b[0m \u001b[0mU\u001b[0m\u001b[0;34m=\u001b[0m \u001b[0;32mNone\u001b[0m\u001b[0;34m,\u001b[0m\u001b[0m_rho\u001b[0m\u001b[0;34m=\u001b[0m\u001b[0;36m1\u001b[0m\u001b[0;34m,\u001b[0m \u001b[0m_mu\u001b[0m\u001b[0;34m=\u001b[0m\u001b[0;36m1\u001b[0m\u001b[0;34m)\u001b[0m\u001b[0;34m:\u001b[0m\u001b[0;34m\u001b[0m\u001b[0m\n\u001b[0;32m----> 2\u001b[0;31m     \u001b[0;32mreturn\u001b[0m \u001b[0m_rho\u001b[0m\u001b[0;34m*\u001b[0m \u001b[0mnp\u001b[0m\u001b[0;34m.\u001b[0m\u001b[0mlinalg\u001b[0m\u001b[0;34m.\u001b[0m\u001b[0mnorm\u001b[0m\u001b[0;34m(\u001b[0m\u001b[0mR\u001b[0m \u001b[0;34m-\u001b[0m \u001b[0mT\u001b[0m \u001b[0;34m+\u001b[0m \u001b[0mU\u001b[0m\u001b[0;34m+\u001b[0m \u001b[0mK\u001b[0m\u001b[0;34m.\u001b[0m\u001b[0mT\u001b[0m\u001b[0;34m.\u001b[0m\u001b[0mdot\u001b[0m\u001b[0;34m(\u001b[0m\u001b[0mnp\u001b[0m\u001b[0;34m.\u001b[0m\u001b[0mlinalg\u001b[0m\u001b[0;34m.\u001b[0m\u001b[0minv\u001b[0m\u001b[0;34m(\u001b[0m\u001b[0mH\u001b[0m\u001b[0;34m)\u001b[0m\u001b[0;34m.\u001b[0m\u001b[0mdot\u001b[0m\u001b[0;34m(\u001b[0m\u001b[0mK\u001b[0m\u001b[0;34m)\u001b[0m\u001b[0;34m)\u001b[0m\u001b[0;34m)\u001b[0m\u001b[0;34m**\u001b[0m\u001b[0;36m2\u001b[0m \u001b[0;34m+\u001b[0m \u001b[0m_mu\u001b[0m\u001b[0;34m*\u001b[0m\u001b[0mnp\u001b[0m\u001b[0;34m.\u001b[0m\u001b[0mlinalg\u001b[0m\u001b[0;34m.\u001b[0m\u001b[0mnorm\u001b[0m\u001b[0;34m(\u001b[0m\u001b[0mH\u001b[0m\u001b[0;34m,\u001b[0m \u001b[0;36m1\u001b[0m\u001b[0;34m)\u001b[0m\u001b[0;34m\u001b[0m\u001b[0m\n\u001b[0m\u001b[1;32m      3\u001b[0m \u001b[0;34m\u001b[0m\u001b[0m\n\u001b[1;32m      4\u001b[0m \u001b[0;34m\u001b[0m\u001b[0m\n\u001b[1;32m      5\u001b[0m \u001b[0;34m\u001b[0m\u001b[0m\n",
      "\u001b[0;32m~/miniconda2/envs/py36/lib/python3.6/site-packages/numpy/linalg/linalg.py\u001b[0m in \u001b[0;36minv\u001b[0;34m(a)\u001b[0m\n\u001b[1;32m    526\u001b[0m     \u001b[0msignature\u001b[0m \u001b[0;34m=\u001b[0m \u001b[0;34m'D->D'\u001b[0m \u001b[0;32mif\u001b[0m \u001b[0misComplexType\u001b[0m\u001b[0;34m(\u001b[0m\u001b[0mt\u001b[0m\u001b[0;34m)\u001b[0m \u001b[0;32melse\u001b[0m \u001b[0;34m'd->d'\u001b[0m\u001b[0;34m\u001b[0m\u001b[0m\n\u001b[1;32m    527\u001b[0m     \u001b[0mextobj\u001b[0m \u001b[0;34m=\u001b[0m \u001b[0mget_linalg_error_extobj\u001b[0m\u001b[0;34m(\u001b[0m\u001b[0m_raise_linalgerror_singular\u001b[0m\u001b[0;34m)\u001b[0m\u001b[0;34m\u001b[0m\u001b[0m\n\u001b[0;32m--> 528\u001b[0;31m     \u001b[0mainv\u001b[0m \u001b[0;34m=\u001b[0m \u001b[0m_umath_linalg\u001b[0m\u001b[0;34m.\u001b[0m\u001b[0minv\u001b[0m\u001b[0;34m(\u001b[0m\u001b[0ma\u001b[0m\u001b[0;34m,\u001b[0m \u001b[0msignature\u001b[0m\u001b[0;34m=\u001b[0m\u001b[0msignature\u001b[0m\u001b[0;34m,\u001b[0m \u001b[0mextobj\u001b[0m\u001b[0;34m=\u001b[0m\u001b[0mextobj\u001b[0m\u001b[0;34m)\u001b[0m\u001b[0;34m\u001b[0m\u001b[0m\n\u001b[0m\u001b[1;32m    529\u001b[0m     \u001b[0;32mreturn\u001b[0m \u001b[0mwrap\u001b[0m\u001b[0;34m(\u001b[0m\u001b[0mainv\u001b[0m\u001b[0;34m.\u001b[0m\u001b[0mastype\u001b[0m\u001b[0;34m(\u001b[0m\u001b[0mresult_t\u001b[0m\u001b[0;34m,\u001b[0m \u001b[0mcopy\u001b[0m\u001b[0;34m=\u001b[0m\u001b[0;32mFalse\u001b[0m\u001b[0;34m)\u001b[0m\u001b[0;34m)\u001b[0m\u001b[0;34m\u001b[0m\u001b[0m\n\u001b[1;32m    530\u001b[0m \u001b[0;34m\u001b[0m\u001b[0m\n",
      "\u001b[0;32m~/miniconda2/envs/py36/lib/python3.6/site-packages/numpy/linalg/linalg.py\u001b[0m in \u001b[0;36m_raise_linalgerror_singular\u001b[0;34m(err, flag)\u001b[0m\n\u001b[1;32m     87\u001b[0m \u001b[0;34m\u001b[0m\u001b[0m\n\u001b[1;32m     88\u001b[0m \u001b[0;32mdef\u001b[0m \u001b[0m_raise_linalgerror_singular\u001b[0m\u001b[0;34m(\u001b[0m\u001b[0merr\u001b[0m\u001b[0;34m,\u001b[0m \u001b[0mflag\u001b[0m\u001b[0;34m)\u001b[0m\u001b[0;34m:\u001b[0m\u001b[0;34m\u001b[0m\u001b[0m\n\u001b[0;32m---> 89\u001b[0;31m     \u001b[0;32mraise\u001b[0m \u001b[0mLinAlgError\u001b[0m\u001b[0;34m(\u001b[0m\u001b[0;34m\"Singular matrix\"\u001b[0m\u001b[0;34m)\u001b[0m\u001b[0;34m\u001b[0m\u001b[0m\n\u001b[0m\u001b[1;32m     90\u001b[0m \u001b[0;34m\u001b[0m\u001b[0m\n\u001b[1;32m     91\u001b[0m \u001b[0;32mdef\u001b[0m \u001b[0m_raise_linalgerror_nonposdef\u001b[0m\u001b[0;34m(\u001b[0m\u001b[0merr\u001b[0m\u001b[0;34m,\u001b[0m \u001b[0mflag\u001b[0m\u001b[0;34m)\u001b[0m\u001b[0;34m:\u001b[0m\u001b[0;34m\u001b[0m\u001b[0m\n",
      "\u001b[0;31mLinAlgError\u001b[0m: Singular matrix"
     ]
    }
   ],
   "source": [
    "fixed_interlinks_graphical_lasso(samples, per_cov, mu=1, eta=1, rho=1., \n",
    "        verbose=1, compute_objective=1, compute_emp_cov=1,\n",
    "        random_state=0)"
   ]
  },
  {
   "cell_type": "code",
   "execution_count": null,
   "metadata": {},
   "outputs": [],
   "source": []
  },
  {
   "cell_type": "code",
   "execution_count": null,
   "metadata": {},
   "outputs": [],
   "source": []
  }
 ],
 "metadata": {
  "kernelspec": {
   "display_name": "Python 3",
   "language": "python",
   "name": "python3"
  },
  "language_info": {
   "codemirror_mode": {
    "name": "ipython",
    "version": 3
   },
   "file_extension": ".py",
   "mimetype": "text/x-python",
   "name": "python",
   "nbconvert_exporter": "python",
   "pygments_lexer": "ipython3",
   "version": "3.6.5"
  }
 },
 "nbformat": 4,
 "nbformat_minor": 2
}
