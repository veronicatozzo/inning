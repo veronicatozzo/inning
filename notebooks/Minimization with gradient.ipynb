{
 "cells": [
  {
   "cell_type": "code",
   "execution_count": 1,
   "metadata": {},
   "outputs": [],
   "source": [
    "import warnings\n",
    "import numpy as np\n",
    "from six.moves import reload_module as reload\n",
    "from sklearn.utils.extmath import fast_logdet\n",
    "from sklearn.utils import check_random_state\n",
    "from sklearn.datasets import make_sparse_spd_matrix\n",
    "from sklearn.covariance import empirical_covariance\n",
    "from functools import partial\n",
    "\n",
    "from network_inference.prox import prox_logdet, soft_thresholding_od\n",
    "import network_inference.datasets; reload(network_inference.datasets)\n",
    "from network_inference.datasets import is_pos_def, is_pos_semi_def\n",
    "from network_inference.utils import _scalar_product, update_rho, convergence\n",
    "from sklearn.utils.extmath import squared_norm\n",
    "from network_inference.utils import l1_od_norm\n",
    "from scipy import linalg"
   ]
  },
  {
   "cell_type": "code",
   "execution_count": 15,
   "metadata": {},
   "outputs": [],
   "source": [
    "np.random.seed(0)\n",
    "random_state=0\n",
    "A = make_sparse_spd_matrix(dim=105, alpha=0.7, random_state=random_state)\n",
    "\n",
    "T_true = A[5:,5:]\n",
    "K_true = A[100:,5:,]\n",
    "H_true = A[0:5,0:5]\n",
    "per_cov = K_true*0.3\n",
    "T_obs = T_true - per_cov.T.dot(np.linalg.inv(H_true)).dot(per_cov)\n",
    "\n",
    "samples = np.random.multivariate_normal(np.zeros(100), np.linalg.inv(T_obs), 500)"
   ]
  },
  {
   "cell_type": "code",
   "execution_count": 3,
   "metadata": {},
   "outputs": [],
   "source": [
    "def objective_H(H, R=None, T=None, K=None, U= None,_rho=1, _mu=1):\n",
    "    if not is_pos_def(H):\n",
    "        return np.inf\n",
    "    return 0.5 * _rho * squared_norm(R - T + U + np.linalg.multi_dot((K.T, linalg.pinvh(H), K))) \\\n",
    "            + _mu * l1_od_norm(H)"
   ]
  },
  {
   "cell_type": "code",
   "execution_count": 4,
   "metadata": {},
   "outputs": [],
   "source": [
    "def _choose_lambda(lamda, R, T, K, H, U,  _rho, _mu, prox, grad, gamma, delta=1e-4, eps=0.9, max_iter=500):\n",
    "    \"\"\"Choose lambda for backtracking.\n",
    "\n",
    "    References\n",
    "    ----------\n",
    "    Salzo S. (2017). https://doi.org/10.1137/16M1073741\n",
    "\n",
    "    \"\"\"\n",
    "    partial_f = partial(objective_H, R=R, T=T, K=K, U=U, _rho=_rho, _mu=_mu)\n",
    "    fx = partial_f(H)\n",
    "\n",
    "    y_minus_x = prox - H\n",
    "    tolerance = _scalar_product(y_minus_x, grad)\n",
    "    tolerance += delta / gamma * _scalar_product(y_minus_x, y_minus_x)\n",
    "    #print(\"Tolerance:\", tolerance)\n",
    "    for i in range(max_iter):\n",
    "        # line-search\n",
    "        x1 = H + lamda * y_minus_x\n",
    "\n",
    "        loss_diff = partial_f(x1) - fx\n",
    "        #print(\"Loss diff:\", loss_diff)\n",
    "        if loss_diff <= lamda * tolerance:\n",
    "              break\n",
    "        lamda *= eps\n",
    "    else:\n",
    "        print(\"not found lambda\")\n",
    "    return lamda, i + 1"
   ]
  },
  {
   "cell_type": "code",
   "execution_count": 5,
   "metadata": {},
   "outputs": [],
   "source": [
    "def _choose_gamma(gamma, H, R, T, K, U, _rho, _mu, _lambda, grad,\n",
    "                 eps=0.9, max_iter=500):\n",
    "    \"\"\"Choose gamma for backtracking.\n",
    "\n",
    "    References\n",
    "    ----------\n",
    "    Salzo S. (2017). https://doi.org/10.1137/16M1073741\n",
    "\n",
    "    \"\"\"\n",
    "    partial_f = partial(objective_H, R=R, T=T, K=K, U=U, _rho=_rho, _mu=_mu)\n",
    "    fx = partial_f(H)\n",
    "    for i in range(max_iter):\n",
    "        prox = soft_thresholding_od(H - gamma * grad, _mu * gamma)\n",
    "        if is_pos_def(prox):\n",
    "            break\n",
    "        gamma *= eps\n",
    "    else:\n",
    "        print(\"not found gamma\")\n",
    "    return gamma, prox"
   ]
  },
  {
   "cell_type": "code",
   "execution_count": 6,
   "metadata": {},
   "outputs": [],
   "source": [
    "def _upgrade_H(H, R, T, K, U, _rho, _mu, verbose=0, random_state=None):\n",
    "    # H = make_sparse_spd_matrix(dim=K.shape[0], alpha=0.5, random_state=random_state)\n",
    "    _lambda = 1\n",
    "    gamma = 1\n",
    "    obj = 1e+10\n",
    "    for iter_ in range(2000):\n",
    "        H_old = H.copy()\n",
    "        Hinv = linalg.pinvh(H)\n",
    "        gradient =  -_rho* K.dot(R - T + U + np.linalg.multi_dot((K.T, Hinv, K))).dot(K.T).dot(Hinv).dot(Hinv)\n",
    "        gamma, _ = _choose_gamma(gamma, H, R, T, K, U, _rho,_mu, _lambda, gradient)\n",
    "        Y = soft_thresholding_od(H - gamma * gradient, gamma * _mu)\n",
    "        _lambda,_ = _choose_lambda(_lambda, R, T, K, H, U,_rho, _mu, Y, gradient, gamma, max_iter=1000)\n",
    "        H = H + _lambda * (Y - H)\n",
    "        assert is_pos_def(H)\n",
    "        obj_old = obj\n",
    "        obj = objective_H(H, R, T, K, U,_rho=_rho, _mu=_mu)\n",
    "        obj_diff = obj_old - obj\n",
    "        iter_diff =np.linalg.norm(H - H_old) \n",
    "        if verbose:\n",
    "            print(\"Iter: %d, obj: %.5f, iter_diff: %.5f, obj_diff:%.10f\"%(iter_, obj, iter_diff, obj_diff))\n",
    "        if(obj_diff<1e-4): \n",
    "            break\n",
    "    else:\n",
    "        print(\"Did not converge\")\n",
    "    return H"
   ]
  },
  {
   "cell_type": "code",
   "execution_count": 7,
   "metadata": {},
   "outputs": [
    {
     "name": "stdout",
     "output_type": "stream",
     "text": [
      "False\n",
      "True\n",
      "True\n",
      "Iter: 0, obj: 0.01669, iter_diff: 0.01208, obj_diff:9999999999.9833126068\n",
      "Iter: 1, obj: 0.01654, iter_diff: 0.01207, obj_diff:0.0001455659\n",
      "Iter: 2, obj: 0.01640, iter_diff: 0.01207, obj_diff:0.0001454692\n",
      "Iter: 3, obj: 0.01625, iter_diff: 0.01207, obj_diff:0.0001453807\n",
      "Iter: 4, obj: 0.01611, iter_diff: 0.01206, obj_diff:0.0001452993\n",
      "Iter: 5, obj: 0.01596, iter_diff: 0.01206, obj_diff:0.0001452244\n",
      "Iter: 6, obj: 0.01581, iter_diff: 0.01205, obj_diff:0.0001451553\n",
      "Iter: 7, obj: 0.01567, iter_diff: 0.01205, obj_diff:0.0001450914\n",
      "Iter: 8, obj: 0.01552, iter_diff: 0.01205, obj_diff:0.0001450323\n",
      "Iter: 9, obj: 0.01538, iter_diff: 0.01205, obj_diff:0.0001449775\n",
      "Iter: 10, obj: 0.01523, iter_diff: 0.01204, obj_diff:0.0001449266\n",
      "Iter: 11, obj: 0.01509, iter_diff: 0.01204, obj_diff:0.0001448792\n",
      "Iter: 12, obj: 0.01495, iter_diff: 0.01204, obj_diff:0.0001448350\n",
      "Iter: 13, obj: 0.01480, iter_diff: 0.01204, obj_diff:0.0001447938\n",
      "Iter: 14, obj: 0.01466, iter_diff: 0.01203, obj_diff:0.0001447553\n",
      "Iter: 15, obj: 0.01451, iter_diff: 0.01203, obj_diff:0.0001447193\n",
      "Iter: 16, obj: 0.01437, iter_diff: 0.01203, obj_diff:0.0001446855\n",
      "Iter: 17, obj: 0.01422, iter_diff: 0.01203, obj_diff:0.0001446538\n",
      "Iter: 18, obj: 0.01408, iter_diff: 0.01203, obj_diff:0.0001446240\n",
      "Iter: 19, obj: 0.01393, iter_diff: 0.01203, obj_diff:0.0001445960\n",
      "Iter: 20, obj: 0.01379, iter_diff: 0.01203, obj_diff:0.0001445696\n",
      "Iter: 21, obj: 0.01364, iter_diff: 0.01202, obj_diff:0.0001445447\n",
      "Iter: 22, obj: 0.01350, iter_diff: 0.01202, obj_diff:0.0001445212\n",
      "Iter: 23, obj: 0.01335, iter_diff: 0.01202, obj_diff:0.0001444990\n",
      "Iter: 24, obj: 0.01321, iter_diff: 0.01202, obj_diff:0.0001444780\n",
      "Iter: 25, obj: 0.01308, iter_diff: 0.01129, obj_diff:0.0001304855\n",
      "Iter: 26, obj: 0.01295, iter_diff: 0.01125, obj_diff:0.0001264570\n",
      "Iter: 27, obj: 0.01283, iter_diff: 0.01125, obj_diff:0.0001264441\n",
      "Iter: 28, obj: 0.01270, iter_diff: 0.01125, obj_diff:0.0001264317\n",
      "Iter: 29, obj: 0.01257, iter_diff: 0.01124, obj_diff:0.0001264198\n",
      "Iter: 30, obj: 0.01245, iter_diff: 0.01098, obj_diff:0.0001231383\n",
      "Iter: 31, obj: 0.01234, iter_diff: 0.01041, obj_diff:0.0001082933\n",
      "Iter: 32, obj: 0.01223, iter_diff: 0.01041, obj_diff:0.0001082828\n",
      "Iter: 33, obj: 0.01213, iter_diff: 0.01041, obj_diff:0.0001082728\n",
      "Iter: 34, obj: 0.01203, iter_diff: 0.00952, obj_diff:0.0000920403\n",
      "Iter: 0, obj: 0.00688, iter_diff: 0.00949, obj_diff:9999999999.9931201935\n",
      "Iter: 1, obj: 0.00679, iter_diff: 0.00949, obj_diff:0.0000901304\n",
      "Iter: 0, obj: 0.01681, iter_diff: 0.01298, obj_diff:9999999999.9831867218\n",
      "Iter: 1, obj: 0.01665, iter_diff: 0.01292, obj_diff:0.0001666787\n",
      "Iter: 2, obj: 0.01648, iter_diff: 0.01288, obj_diff:0.0001657717\n",
      "Iter: 3, obj: 0.01632, iter_diff: 0.01285, obj_diff:0.0001650901\n",
      "Iter: 4, obj: 0.01615, iter_diff: 0.01283, obj_diff:0.0001645664\n",
      "Iter: 5, obj: 0.01599, iter_diff: 0.01281, obj_diff:0.0001641563\n",
      "Iter: 6, obj: 0.01582, iter_diff: 0.01280, obj_diff:0.0001638300\n",
      "Iter: 7, obj: 0.01566, iter_diff: 0.01279, obj_diff:0.0001635667\n",
      "Iter: 8, obj: 0.01550, iter_diff: 0.01278, obj_diff:0.0001633516\n",
      "Iter: 9, obj: 0.01533, iter_diff: 0.01277, obj_diff:0.0001631740\n",
      "Iter: 10, obj: 0.01517, iter_diff: 0.01277, obj_diff:0.0001630259\n",
      "Iter: 11, obj: 0.01501, iter_diff: 0.01276, obj_diff:0.0001629014\n",
      "Iter: 12, obj: 0.01484, iter_diff: 0.01276, obj_diff:0.0001627959\n",
      "Iter: 13, obj: 0.01468, iter_diff: 0.01275, obj_diff:0.0001627058\n",
      "Iter: 14, obj: 0.01452, iter_diff: 0.01275, obj_diff:0.0001626283\n",
      "Iter: 15, obj: 0.01436, iter_diff: 0.01275, obj_diff:0.0001625613\n",
      "Iter: 16, obj: 0.01419, iter_diff: 0.01275, obj_diff:0.0001625031\n",
      "Iter: 17, obj: 0.01403, iter_diff: 0.01274, obj_diff:0.0001624522\n",
      "Iter: 18, obj: 0.01387, iter_diff: 0.01274, obj_diff:0.0001624075\n",
      "Iter: 19, obj: 0.01371, iter_diff: 0.01274, obj_diff:0.0001623681\n",
      "Iter: 20, obj: 0.01354, iter_diff: 0.01274, obj_diff:0.0001623332\n",
      "Iter: 21, obj: 0.01338, iter_diff: 0.01274, obj_diff:0.0001623021\n",
      "Iter: 22, obj: 0.01322, iter_diff: 0.01274, obj_diff:0.0001622744\n",
      "Iter: 23, obj: 0.01306, iter_diff: 0.01274, obj_diff:0.0001622496\n",
      "Iter: 24, obj: 0.01290, iter_diff: 0.01274, obj_diff:0.0001622273\n",
      "Iter: 25, obj: 0.01273, iter_diff: 0.01273, obj_diff:0.0001622071\n",
      "Iter: 26, obj: 0.01258, iter_diff: 0.01248, obj_diff:0.0001579979\n",
      "Iter: 27, obj: 0.01243, iter_diff: 0.01201, obj_diff:0.0001445741\n",
      "Iter: 28, obj: 0.01229, iter_diff: 0.01201, obj_diff:0.0001441514\n",
      "Iter: 29, obj: 0.01214, iter_diff: 0.01200, obj_diff:0.0001441390\n",
      "Iter: 30, obj: 0.01200, iter_diff: 0.01200, obj_diff:0.0001441276\n",
      "Iter: 31, obj: 0.01186, iter_diff: 0.01152, obj_diff:0.0001370218\n",
      "Iter: 32, obj: 0.01174, iter_diff: 0.01123, obj_diff:0.0001261076\n",
      "Iter: 33, obj: 0.01161, iter_diff: 0.01123, obj_diff:0.0001260985\n",
      "Iter: 34, obj: 0.01148, iter_diff: 0.01123, obj_diff:0.0001260901\n",
      "Iter: 35, obj: 0.01136, iter_diff: 0.01123, obj_diff:0.0001260822\n",
      "Iter: 36, obj: 0.01123, iter_diff: 0.01123, obj_diff:0.0001260748\n",
      "Iter: 37, obj: 0.01111, iter_diff: 0.01123, obj_diff:0.0001260678\n",
      "Iter: 38, obj: 0.01098, iter_diff: 0.01123, obj_diff:0.0001260613\n",
      "Iter: 39, obj: 0.01085, iter_diff: 0.01123, obj_diff:0.0001260552\n",
      "Iter: 40, obj: 0.01073, iter_diff: 0.01123, obj_diff:0.0001260494\n",
      "Iter: 41, obj: 0.01060, iter_diff: 0.01123, obj_diff:0.0001260439\n",
      "Iter: 42, obj: 0.01047, iter_diff: 0.01123, obj_diff:0.0001260388\n",
      "Iter: 43, obj: 0.01035, iter_diff: 0.01123, obj_diff:0.0001260339\n",
      "Iter: 44, obj: 0.01022, iter_diff: 0.01123, obj_diff:0.0001260293\n",
      "Iter: 45, obj: 0.01010, iter_diff: 0.01123, obj_diff:0.0001260249\n",
      "Iter: 46, obj: 0.00997, iter_diff: 0.01123, obj_diff:0.0001260208\n",
      "Iter: 47, obj: 0.00986, iter_diff: 0.01055, obj_diff:0.0001156591\n",
      "Iter: 48, obj: 0.00975, iter_diff: 0.01039, obj_diff:0.0001080175\n",
      "Iter: 49, obj: 0.00964, iter_diff: 0.01039, obj_diff:0.0001080141\n",
      "Iter: 50, obj: 0.00953, iter_diff: 0.01039, obj_diff:0.0001080108\n",
      "Iter: 51, obj: 0.00942, iter_diff: 0.01039, obj_diff:0.0001080077\n",
      "Iter: 52, obj: 0.00932, iter_diff: 0.01039, obj_diff:0.0001080047\n",
      "Iter: 53, obj: 0.00921, iter_diff: 0.01039, obj_diff:0.0001080018\n",
      "Iter: 54, obj: 0.00910, iter_diff: 0.01039, obj_diff:0.0001079990\n",
      "Iter: 55, obj: 0.00899, iter_diff: 0.01039, obj_diff:0.0001079963\n",
      "Iter: 56, obj: 0.00888, iter_diff: 0.01039, obj_diff:0.0001079937\n",
      "Iter: 57, obj: 0.00878, iter_diff: 0.01039, obj_diff:0.0001079912\n",
      "Iter: 58, obj: 0.00867, iter_diff: 0.01039, obj_diff:0.0001079887\n",
      "Iter: 59, obj: 0.00856, iter_diff: 0.01039, obj_diff:0.0001079864\n",
      "Iter: 60, obj: 0.00845, iter_diff: 0.01039, obj_diff:0.0001079841\n",
      "Iter: 61, obj: 0.00834, iter_diff: 0.01039, obj_diff:0.0001079819\n",
      "Iter: 62, obj: 0.00824, iter_diff: 0.01039, obj_diff:0.0001079797\n",
      "Iter: 63, obj: 0.00813, iter_diff: 0.01039, obj_diff:0.0001079776\n",
      "Iter: 64, obj: 0.00802, iter_diff: 0.01039, obj_diff:0.0001079756\n",
      "Iter: 65, obj: 0.00791, iter_diff: 0.01039, obj_diff:0.0001079736\n",
      "Iter: 66, obj: 0.00780, iter_diff: 0.01039, obj_diff:0.0001079717\n",
      "Iter: 67, obj: 0.00770, iter_diff: 0.01039, obj_diff:0.0001079698\n",
      "Iter: 68, obj: 0.00759, iter_diff: 0.01039, obj_diff:0.0001079679\n",
      "Iter: 69, obj: 0.00748, iter_diff: 0.01039, obj_diff:0.0001079661\n",
      "Iter: 70, obj: 0.00738, iter_diff: 0.00970, obj_diff:0.0000986453\n"
     ]
    },
    {
     "data": {
      "text/plain": [
       "(array([[ 1.55023257,  0.        ,  0.        , -0.6212299 , -0.02983354],\n",
       "        [ 0.        ,  2.03659726,  0.        , -0.03452956, -0.73565838],\n",
       "        [ 0.        ,  0.        ,  1.46861319,  0.        , -0.57980673],\n",
       "        [-0.62254823, -0.03459194,  0.        ,  1.00105197,  0.        ],\n",
       "        [-0.03035457, -0.73589221, -0.57917674,  0.        ,  1.00077523]]),\n",
       " array([[ 1.21068059,  0.03529319, -0.38400949, -0.21352122, -0.09562236],\n",
       "        [ 0.03527721,  1.16490651,  0.        ,  0.        , -0.40004162],\n",
       "        [-0.38403334,  0.        ,  0.99999794,  0.        ,  0.        ],\n",
       "        [-0.21352601,  0.        ,  0.        ,  1.00002254,  0.        ],\n",
       "        [-0.09564479, -0.4000552 ,  0.        ,  0.        ,  1.0000066 ]]),\n",
       " array([[ 1.97635268,  0.        , -0.42354303,  0.        , -0.13501885],\n",
       "        [ 0.        ,  1.53267468, -0.15403615, -0.22384937,  0.        ],\n",
       "        [-0.42523562, -0.15271166,  1.25778998, -0.29485871,  0.        ],\n",
       "        [ 0.        , -0.22070543, -0.29217541,  1.00302461,  0.        ],\n",
       "        [-0.13548363,  0.        ,  0.        ,  0.        ,  1.36974743]]),\n",
       " array([[ 1.22170946,  0.        ,  0.        ,  0.        ,  0.        ],\n",
       "        [ 0.        ,  2.07826367,  0.        , -0.15206798,  0.74181422],\n",
       "        [ 0.        ,  0.        ,  1.        ,  0.        , -0.85945506],\n",
       "        [ 0.        , -0.15206798,  0.        ,  2.22706349,  0.        ],\n",
       "        [ 0.        ,  0.74181422, -0.85945506,  0.        ,  2.4664463 ]]))"
      ]
     },
     "execution_count": 7,
     "metadata": {},
     "output_type": "execute_result"
    }
   ],
   "source": [
    "R = np.random.rand(10,10)\n",
    "T = make_sparse_spd_matrix(dim=10, alpha=0.5)*20\n",
    "U = np.zeros((10,10))\n",
    "K = per_cov*0.1\n",
    "#print(R.shape, T.shape, U.shape, K.shape)\n",
    "\n",
    "H = make_sparse_spd_matrix(dim=K.shape[0], alpha=0.5)*10\n",
    "#print(H)\n",
    "#print(R - T + U + np.linalg.multi_dot((K.T, H, K)))\n",
    "R = T - K.T.dot(np.linalg.pinv(H)).dot(K)\n",
    "print(is_pos_semi_def(T-R))\n",
    "#print(R - T + K.T.dot(np.linalg.pinv(H)).dot(K) )\n",
    "print(is_pos_def(R))\n",
    "print(is_pos_semi_def(K.T.dot(np.linalg.pinv(H)).dot(K)))\n",
    "H_found1 = _upgrade_H(make_sparse_spd_matrix(dim=K.shape[0], alpha=0.2),\n",
    "                     R, T, K, U, 0.5,0.003, 1, random_state=0)\n",
    "#H_found[np.where(np.abs(H_found)<1e-5)] = 0\n",
    "\n",
    "H_found2 = _upgrade_H(make_sparse_spd_matrix(dim=K.shape[0], alpha=0.2),\n",
    "                     R, T, K, U, 0.5,0.003, 1, random_state=0)\n",
    "\n",
    "H_found3 = _upgrade_H(make_sparse_spd_matrix(dim=K.shape[0], alpha=0.2),\n",
    "                     R, T, K, U, 0.5,0.003, 1, random_state=0)\n",
    "\n",
    "H_found1 , H_found2 , H_found3, H_true"
   ]
  },
  {
   "cell_type": "code",
   "execution_count": 8,
   "metadata": {},
   "outputs": [],
   "source": [
    "def objective(emp_cov, K, R, T, H, U,mu, eta, rho):\n",
    "    if not is_pos_def(H):\n",
    "        return np.inf\n",
    "    res = - fast_logdet(R) + np.sum(R * emp_cov)\n",
    "    #print(res)\n",
    "    res += rho / 2. * squared_norm(R - T + U + np.linalg.multi_dot((K.T, linalg.pinvh(H), K)))\n",
    "    #print(squared_norm(R + U + np.linalg.multi_dot((K.T, linalg.pinvh(H), K))))\n",
    "    res += mu * l1_od_norm(H)\n",
    "    #print(l1_od_norm(H))\n",
    "    res += eta * l1_od_norm(T)\n",
    "    #print(l1_od_norm(T))\n",
    "    return res"
   ]
  },
  {
   "cell_type": "code",
   "execution_count": 9,
   "metadata": {},
   "outputs": [],
   "source": [
    "def fixed_interlinks_graphical_lasso(X, K, mu=0.01, eta=0.01, rho=1., \n",
    "        tol=1e-3, rtol=1e-5, max_iter=100, verbose=False, return_n_iter=True,\n",
    "        return_history=False, compute_objective=False, compute_emp_cov=False,\n",
    "        random_state=None, update_rho=False):\n",
    "    \n",
    "    random_state = check_random_state(random_state)\n",
    "    if compute_emp_cov:\n",
    "        n = X.shape[0] \n",
    "        emp_cov = empirical_covariance(X, assume_centered=False)\n",
    "    else:\n",
    "        emp_cov = X\n",
    "\n",
    "    H = make_sparse_spd_matrix(K.shape[0], alpha=0.2, random_state=random_state)\n",
    "    print(H)\n",
    "    #H = np.eye(K.shape[0])\n",
    "    T = linalg.pinvh(emp_cov.copy() + 1e-5*np.eye(emp_cov.shape[0]))*10\n",
    "    #T = (T + T.T) / 2.\n",
    "    R = np.zeros((K.shape[1], K.shape[1]))\n",
    "    U = np.zeros((K.shape[1], K.shape[1]))\n",
    "    \n",
    "    checks = []\n",
    "    for iteration_ in range(max_iter):\n",
    "        R_old = R.copy()\n",
    "        \n",
    "        # R update\n",
    "        Hinv = linalg.pinvh(H)\n",
    "        M = T - U - K.T.dot(Hinv).dot(K)\n",
    "        M = (M + M.T)/2\n",
    "        R = prox_logdet(emp_cov - rho * M,  1/rho)\n",
    "        assert is_pos_def(R), \"R non positive deinife iter %d\"%iteration_\n",
    "        \n",
    "        # T update\n",
    "        M = R + U + K.T.dot(Hinv).dot(K)\n",
    "        T = soft_thresholding_od(M, eta / rho)\n",
    "        assert is_pos_def(T, tol=1e-8), \"Theta non positive definite iter %d\"%iteration_\n",
    "       \n",
    "        # H update\n",
    "        KHK = np.linalg.multi_dot((K.T, linalg.pinvh(H), K))\n",
    "        H = _upgrade_H(H, R, T, K, U, rho, mu, verbose=0)\n",
    "        \n",
    "        # U update\n",
    "        KHK = np.linalg.multi_dot((K.T, linalg.pinvh(H), K))\n",
    "        U += R - T + KHK\n",
    "        assert is_pos_semi_def(KHK), \"KHK non positive semi-definite iter %d\"%iteration_\n",
    "        \n",
    "        # diagnostics, reporting, termination checks\n",
    "        obj = objective(emp_cov, K, R, T, H, U, mu, eta, rho) \\\n",
    "            if compute_objective else np.nan\n",
    "        rnorm = np.linalg.norm(R - T + KHK)\n",
    "        snorm = rho * np.linalg.norm(R - R_old)\n",
    "        check = convergence(\n",
    "            obj=obj, rnorm=rnorm, snorm=snorm,\n",
    "            e_pri=(np.sqrt(R.size) * tol + rtol *\n",
    "                   max(np.linalg.norm(R),\n",
    "                       np.linalg.norm(T - KHK))),\n",
    "            e_dual=(np.sqrt(R.size) * tol + rtol * rho *\n",
    "                    np.linalg.norm(U))\n",
    "        )\n",
    "        \n",
    "        if verbose:\n",
    "            print(\"obj: %.4f, rnorm: %.4f, snorm: %.4f,\"\n",
    "                  \"eps_pri: %.4f, eps_dual: %.4f\" % check)\n",
    "\n",
    "        checks.append(check)\n",
    "        if check.rnorm <= check.e_pri and check.snorm <= check.e_dual:\n",
    "            break\n",
    "        if update_rho:\n",
    "            rho_new = update_rho(rho, rnorm, snorm, iteration=iteration_)\n",
    "            # scaled dual variables should be also rescaled\n",
    "            U *= rho / rho_new\n",
    "            rho = rho_new\n",
    "    else:\n",
    "        warnings.warn(\"Objective did not converge.\")\n",
    "\n",
    "    return_list = [R, T, H, emp_cov]\n",
    "    if return_n_iter:\n",
    "        return_list.append(iteration_)\n",
    "    if return_history:\n",
    "        return_list.append(checks)\n",
    "    return return_list\n"
   ]
  },
  {
   "cell_type": "code",
   "execution_count": 17,
   "metadata": {
    "scrolled": true
   },
   "outputs": [
    {
     "name": "stdout",
     "output_type": "stream",
     "text": [
      "[[ 1.09712229  0.05691441 -0.31164449  0.         -0.40452597]\n",
      " [ 0.05691441  2.26141742 -0.65810496 -0.22766968 -0.15504919]\n",
      " [-0.31164449 -0.65810496  1.          0.         -0.5941084 ]\n",
      " [ 0.         -0.22766968  0.          1.41661376 -0.64545624]\n",
      " [-0.40452597 -0.15504919 -0.5941084  -0.64545624  1.70068326]]\n"
     ]
    },
    {
     "ename": "AssertionError",
     "evalue": "Theta non positive definite iter 0",
     "output_type": "error",
     "traceback": [
      "\u001b[0;31m---------------------------------------------------------------------------\u001b[0m",
      "\u001b[0;31mAssertionError\u001b[0m                            Traceback (most recent call last)",
      "\u001b[0;32m<ipython-input-17-b7cfe530772a>\u001b[0m in \u001b[0;36m<module>\u001b[0;34m()\u001b[0m\n\u001b[1;32m      1\u001b[0m res = fixed_interlinks_graphical_lasso(samples, per_cov*0.00001, mu=0.001, eta=0.5, rho=1., \n\u001b[1;32m      2\u001b[0m         \u001b[0mverbose\u001b[0m\u001b[0;34m=\u001b[0m\u001b[0;36m1\u001b[0m\u001b[0;34m,\u001b[0m \u001b[0mcompute_objective\u001b[0m\u001b[0;34m=\u001b[0m\u001b[0;36m1\u001b[0m\u001b[0;34m,\u001b[0m \u001b[0mcompute_emp_cov\u001b[0m\u001b[0;34m=\u001b[0m\u001b[0;36m1\u001b[0m\u001b[0;34m,\u001b[0m\u001b[0;34m\u001b[0m\u001b[0m\n\u001b[0;32m----> 3\u001b[0;31m         random_state=0)\n\u001b[0m",
      "\u001b[0;32m<ipython-input-9-2288dc867717>\u001b[0m in \u001b[0;36mfixed_interlinks_graphical_lasso\u001b[0;34m(X, K, mu, eta, rho, tol, rtol, max_iter, verbose, return_n_iter, return_history, compute_objective, compute_emp_cov, random_state, update_rho)\u001b[0m\n\u001b[1;32m     33\u001b[0m         \u001b[0mM\u001b[0m \u001b[0;34m=\u001b[0m \u001b[0mR\u001b[0m \u001b[0;34m+\u001b[0m \u001b[0mU\u001b[0m \u001b[0;34m+\u001b[0m \u001b[0mK\u001b[0m\u001b[0;34m.\u001b[0m\u001b[0mT\u001b[0m\u001b[0;34m.\u001b[0m\u001b[0mdot\u001b[0m\u001b[0;34m(\u001b[0m\u001b[0mHinv\u001b[0m\u001b[0;34m)\u001b[0m\u001b[0;34m.\u001b[0m\u001b[0mdot\u001b[0m\u001b[0;34m(\u001b[0m\u001b[0mK\u001b[0m\u001b[0;34m)\u001b[0m\u001b[0;34m\u001b[0m\u001b[0m\n\u001b[1;32m     34\u001b[0m         \u001b[0mT\u001b[0m \u001b[0;34m=\u001b[0m \u001b[0msoft_thresholding_od\u001b[0m\u001b[0;34m(\u001b[0m\u001b[0mM\u001b[0m\u001b[0;34m,\u001b[0m \u001b[0meta\u001b[0m \u001b[0;34m/\u001b[0m \u001b[0mrho\u001b[0m\u001b[0;34m)\u001b[0m\u001b[0;34m\u001b[0m\u001b[0m\n\u001b[0;32m---> 35\u001b[0;31m         \u001b[0;32massert\u001b[0m \u001b[0mis_pos_def\u001b[0m\u001b[0;34m(\u001b[0m\u001b[0mT\u001b[0m\u001b[0;34m,\u001b[0m \u001b[0mtol\u001b[0m\u001b[0;34m=\u001b[0m\u001b[0;36m1e-8\u001b[0m\u001b[0;34m)\u001b[0m\u001b[0;34m,\u001b[0m \u001b[0;34m\"Theta non positive definite iter %d\"\u001b[0m\u001b[0;34m%\u001b[0m\u001b[0miteration_\u001b[0m\u001b[0;34m\u001b[0m\u001b[0m\n\u001b[0m\u001b[1;32m     36\u001b[0m \u001b[0;34m\u001b[0m\u001b[0m\n\u001b[1;32m     37\u001b[0m         \u001b[0;31m# H update\u001b[0m\u001b[0;34m\u001b[0m\u001b[0;34m\u001b[0m\u001b[0m\n",
      "\u001b[0;31mAssertionError\u001b[0m: Theta non positive definite iter 0"
     ]
    }
   ],
   "source": [
    "res = fixed_interlinks_graphical_lasso(samples, per_cov*0.00001, mu=0.001, eta=0.5, rho=1., \n",
    "        verbose=1, compute_objective=1, compute_emp_cov=1,\n",
    "        random_state=0)"
   ]
  },
  {
   "cell_type": "code",
   "execution_count": 11,
   "metadata": {},
   "outputs": [
    {
     "data": {
      "text/plain": [
       "array([[ 1.10706338,  0.        , -0.21533349,  0.        , -0.3109012 ],\n",
       "       [ 0.        ,  2.26273026, -0.57124563, -0.14305028, -0.06887208],\n",
       "       [-0.23184238, -0.57604456,  0.99527511,  0.        , -0.51388937],\n",
       "       [ 0.        , -0.14392242,  0.        ,  1.41727544, -0.56136767],\n",
       "       [-0.31695746, -0.06886739, -0.50446247, -0.55911651,  1.70489515]])"
      ]
     },
     "execution_count": 11,
     "metadata": {},
     "output_type": "execute_result"
    }
   ],
   "source": [
    "LL = res[2].copy()\n",
    "LL[np.where(np.abs(LL)<1e-4)] = 0\n",
    "LL"
   ]
  },
  {
   "cell_type": "code",
   "execution_count": 12,
   "metadata": {},
   "outputs": [
    {
     "data": {
      "text/plain": [
       "array([[ 1.22170946,  0.        ,  0.        ,  0.        ,  0.        ],\n",
       "       [ 0.        ,  2.07826367,  0.        , -0.15206798,  0.74181422],\n",
       "       [ 0.        ,  0.        ,  1.        ,  0.        , -0.85945506],\n",
       "       [ 0.        , -0.15206798,  0.        ,  2.22706349,  0.        ],\n",
       "       [ 0.        ,  0.74181422, -0.85945506,  0.        ,  2.4664463 ]])"
      ]
     },
     "execution_count": 12,
     "metadata": {},
     "output_type": "execute_result"
    }
   ],
   "source": [
    "H_true"
   ]
  },
  {
   "cell_type": "code",
   "execution_count": 13,
   "metadata": {},
   "outputs": [
    {
     "data": {
      "text/plain": [
       "array([[ 0.63708101, -0.        , -0.        , -0.        , -0.        ,\n",
       "        -0.12095312,  0.        , -0.02421178,  0.        ,  0.        ],\n",
       "       [-0.        ,  1.02897462, -0.        , -0.07776693, -0.        ,\n",
       "        -0.        , -0.        , -0.        , -0.        , -0.13195498],\n",
       "       [-0.        , -0.        ,  1.54140573, -0.        ,  0.        ,\n",
       "        -0.        , -0.        , -0.        , -0.        , -0.        ],\n",
       "       [-0.        , -0.07776693, -0.        ,  0.7399214 ,  0.        ,\n",
       "        -0.        , -0.        , -0.        , -0.        , -0.        ],\n",
       "       [-0.        , -0.        ,  0.        ,  0.        ,  0.99582247,\n",
       "        -0.        , -0.        , -0.        , -0.        , -0.        ],\n",
       "       [-0.12095312, -0.        , -0.        , -0.        , -0.        ,\n",
       "         1.22090485,  0.        , -0.05392683,  0.        ,  0.        ],\n",
       "       [ 0.        , -0.        , -0.        , -0.        , -0.        ,\n",
       "         0.        ,  0.58094743, -0.1015059 , -0.17477219, -0.        ],\n",
       "       [-0.02421178, -0.        , -0.        , -0.        , -0.        ,\n",
       "        -0.05392683, -0.1015059 ,  0.47790116, -0.        , -0.        ],\n",
       "       [ 0.        , -0.        , -0.        , -0.        , -0.        ,\n",
       "         0.        , -0.17477219, -0.        ,  1.07400403,  0.        ],\n",
       "       [ 0.        , -0.13195498, -0.        , -0.        , -0.        ,\n",
       "         0.        , -0.        , -0.        ,  0.        ,  0.72079283]])"
      ]
     },
     "execution_count": 13,
     "metadata": {},
     "output_type": "execute_result"
    }
   ],
   "source": [
    "res[1]"
   ]
  },
  {
   "cell_type": "code",
   "execution_count": 14,
   "metadata": {},
   "outputs": [
    {
     "data": {
      "text/plain": [
       "array([[ 1.        ,  0.        , -0.16673795,  0.        ,  0.        ,\n",
       "        -0.88199611,  0.        ,  0.        ,  0.        ,  0.        ],\n",
       "       [ 0.        ,  2.04044801,  0.        , -0.63593324,  0.        ,\n",
       "         0.        , -0.32538408,  0.        ,  0.27733968, -0.72812233],\n",
       "       [-0.16673795,  0.        ,  1.32129891,  0.        ,  0.        ,\n",
       "         0.14706222,  0.        ,  0.        ,  0.        ,  0.        ],\n",
       "       [ 0.        , -0.63593324,  0.        ,  1.        ,  0.        ,\n",
       "         0.        ,  0.        ,  0.        ,  0.        ,  0.        ],\n",
       "       [ 0.        ,  0.        ,  0.        ,  0.        ,  1.        ,\n",
       "         0.        ,  0.        ,  0.        ,  0.        ,  0.        ],\n",
       "       [-0.88199611,  0.        ,  0.14706222,  0.        ,  0.        ,\n",
       "         2.55713568,  0.44253476, -0.8012042 ,  0.        ,  0.        ],\n",
       "       [ 0.        , -0.32538408,  0.        ,  0.        ,  0.        ,\n",
       "         0.44253476,  1.30507622, -0.55233705, -0.85234556,  0.        ],\n",
       "       [ 0.        ,  0.        ,  0.        ,  0.        ,  0.        ,\n",
       "        -0.8012042 , -0.55233705,  1.        ,  0.        ,  0.        ],\n",
       "       [ 0.        ,  0.27733968,  0.        ,  0.        ,  0.        ,\n",
       "         0.        , -0.85234556,  0.        ,  1.87432565,  0.        ],\n",
       "       [ 0.        , -0.72812233,  0.        ,  0.        ,  0.        ,\n",
       "         0.        ,  0.        ,  0.        ,  0.        ,  1.        ]])"
      ]
     },
     "execution_count": 14,
     "metadata": {},
     "output_type": "execute_result"
    }
   ],
   "source": [
    "T_true"
   ]
  },
  {
   "cell_type": "code",
   "execution_count": null,
   "metadata": {},
   "outputs": [],
   "source": []
  }
 ],
 "metadata": {
  "kernelspec": {
   "display_name": "Python 3",
   "language": "python",
   "name": "python3"
  },
  "language_info": {
   "codemirror_mode": {
    "name": "ipython",
    "version": 3
   },
   "file_extension": ".py",
   "mimetype": "text/x-python",
   "name": "python",
   "nbconvert_exporter": "python",
   "pygments_lexer": "ipython3",
   "version": "3.6.5"
  }
 },
 "nbformat": 4,
 "nbformat_minor": 2
}
